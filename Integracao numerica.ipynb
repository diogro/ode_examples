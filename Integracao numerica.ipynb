{
 "cells": [
  {
   "cell_type": "markdown",
   "metadata": {},
   "source": [
    "# Resolvendo equações diferencias numericamente com o python\n",
    "\n",
    "*Esta é uma breve descrição do que é integração numérica e um tutorial prático de como fazer isso em Python*"
   ]
  },
  {
   "cell_type": "markdown",
   "metadata": {},
   "source": [
    "## Softwares necessários\n",
    "\n",
    "*Para executar este notebook em seu próprio computador, você precisa instalar o seguinte software:*\n",
    "\n",
    "* [python](http://python.org)\n",
    "* [numpy](http://numpy.org) e [scipy](http://scipy.org) - biblioteca científica do python\n",
    "* [matplotlib](http://matplotlib.org) - a biblioteca pra plotar gráficos\n",
    "* O [ipython notebook](http://ipython.org/notebook.html) (agora renomeada como *Jupyter*)\n",
    "\n",
    "No Windows e Mac, recomendamos instalar o [Anaconda distribution](https://store.continuum.io/cshop/anaconda/), que inclui todos os itens acima em um único pacote (entre várias outras bibliotecas), disponível em http://continuum.io/downloads.\n",
    "\n",
    "No Linux, você pode instalar tudo usando a maneira preferida de sua distribuição, por exemplo:\n",
    "\n",
    "* Debian/Ubuntu: `sudo apt-get install python-numpy python-scipy python-matplotlib python-ipython-notebook`\n",
    "* Fedora: `sudo yum install python-numpy python-scipy python-matplotlib python-ipython-notebook`\n",
    "* Arch: `sudo pacman -S python-numpy python-scipy python-matplotlib jupyter\n",
    "\n",
    "Os trechos de código mostrados aqui também podem ser copiados em um arquivo de texto puro com extensão .py e executados fora do notebook (por exemplo, em um shell python ou ipython).\n",
    "\n",
    "### Pela web\n",
    "Como alternativa, você pode usar um serviço que executa notebooks na nuvem, por exemplo, [Google colab](https://colab.research.google.com/), [Jupyter lab](https://jupyter.org/try-jupyter/lab/), [SageMathCloud](https://cloud.sagemath.com/) ou [wakari](https://www.wakari.io/). Também é possível visualizar notebooks disponíveis publicamente usando http://nbviewer.ipython.org, mas nenhum cálculo pode ser realizado (apenas mostra resultados pré-calculados salvos)."
   ]
  },
  {
   "cell_type": "markdown",
   "metadata": {},
   "source": [
    "## Como funciona a integração numérica\n",
    "\n",
    "Digamos que temos uma equação diferencial que não sabemos (ou não queremos) derivar sua solução (analítica). Ainda podemos descobrir quais são as soluções por meio da **integração numérica**. Então, como isso funciona?\n",
    "\n",
    "A ideia é aproximar a solução em pequenos intervalos de tempo sucessivos, extrapolando o valor da derivada em cada intervalo. Por exemplo, vamos tomar a equação diferencial\n",
    "\n",
    "$$ \\frac{dx}{dt} = f(x) = x (1 - x) $$\n",
    "\n",
    "com um valor inicial $x_0 = 0.1$ em um momento inicial $t=0$ (ou seja, $x(0) = 0.1$). Em $t=0$, a derivada $\\frac{dx}{dt}$ é igual a  $f(0.1) = 0.1 \\times (1-0.1) = 0.09$. Escolhemos um pequeno passo de tempo, digamos, $\\Delta t = 0.5$, e assumimos que esse valor da derivada é uma boa aproximação ao longo de todo este pequeno intervalo de $t=0$ até $t=0.5$. Isso significa que neste tempo $x$ vai aumentar $\\frac{dx}{dt} \\times \\Delta t = 0.09 \\times 0.5 = 0.045$. Portanto, nossa solução aproximada para $x$ em $t=0.5$ é $x(0) + 0.045 = 0.145$. Podemos então usar este valor de $x(0.5)$ para calcular o próximo ponto no tempo, $t=1$. Em resumo, calculamos a derivada em cada passo, multiplicando o resultado da derivada pelo passo de tempo, e aí somamos o resultado ao valor anterior da solução, conforme tabela abaixo:\n",
    "\n",
    "\n",
    "| $t$ | $x$      | $\\frac{dx}{dt}$  |\n",
    "| ---:|---------:|----------:|\n",
    "| 0   | 0.1      |  0.09     |\n",
    "| 0.5 | 0.145    |  0.123975 |\n",
    "| 1.0 | 0.206987 |  0.164144 |\n",
    "| 1.5 | 0.289059 |  0.205504 |\n",
    "| 2.0 | 0.391811 |  0.238295 |\n",
    "\n",
    "Claro, isso é terrivelmente tedioso de fazer à mão, então podemos escrever um programa simples para fazer isso e fazer um gráfico  da solução. Abaixo, comparamos com a solução que obtivemos na tabela acima com intervalos de tempo $0.1$ com a solução analítica conhecida desta equação diferencial (a *equação logística*). **Não se preocupe com o código ainda**: existem maneiras melhores e mais simples de fazer isso! Os pontos são os valores aproximados para alguns momentos, e a linha mostra a solução analítica."
   ]
  },
  {
   "cell_type": "code",
   "execution_count": null,
   "metadata": {},
   "outputs": [],
   "source": [
    "%matplotlib inline\n",
    "from numpy import *\n",
    "from matplotlib.pyplot import *\n",
    "\n",
    "# Intervalos de tempo\n",
    "tt = arange(0, 10, 0.5)\n",
    "# Condição Inicial \n",
    "xx = [0.1]\n",
    "\n",
    "def f(x):\n",
    "    return x * (1.-x)\n",
    "\n",
    "# loop sobre o tempo\n",
    "for t in tt[1:]:\n",
    "    xx.append(xx[-1] + 0.5 * f(xx[-1]))\n",
    "\n",
    "# plottando\n",
    "figure(figsize=(8, 6)) \n",
    "tick_params(labelsize= 15)\n",
    "plot(tt, xx, '.-',linewidth=2.5)\n",
    "ta = arange(0, 10, 0.01)\n",
    "plot(ta, 0.1 * exp(ta)/(1+0.1*(exp(ta)-1.)),linewidth=2.5)\n",
    "xlabel('t',fontsize=20)\n",
    "ylabel('x',fontsize=20)\n",
    "legend(['aproximação', 'solução analítica'], loc='best',fontsize=16)"
   ]
  },
  {
   "cell_type": "markdown",
   "metadata": {},
   "source": [
    "## Por que usar bibliotecas científicas?\n",
    "\n",
    "O método que acabamos de usar acima é chamado de *método de Euler* e é o mais simples disponível. O problema é que, embora funcione razoavelmente bem para a equação diferencial acima, em muitos casos não funciona muito bem. Há muitas maneiras de melhorá-lo: de fato, existem muitos livros inteiramente dedicados a isso. Embora muitos estudantes de matemática ou física aprendam a implementar métodos mais sofisticados, o tópico é realmente profundo. Felizmente, podemos contar com a experiência de muitas pessoas que já criaram bons algoritmos que funcionam bem na maioria das situações. Estes algoritmos estão já disponíveis na maioria das linguagens de programação. Aqui vamos usar uma ótima implementação disponível em Python."
   ]
  },
  {
   "cell_type": "markdown",
   "metadata": {},
   "source": [
    "## Então, como... ?\n",
    "\n",
    "Vamos demonstrar como usar bibliotecas científicas para integrar equações diferenciais. Embora os comandos específicos dependam do software, o procedimento geral é geralmente o mesmo:\n",
    "\n",
    "1. Defina os valores dos parâmetros e a condição inicial \n",
    "2. Escolha um intervalo de tempo ou uma sequência de tempos em que deseja a solução calculada\n",
    "3. Definir a função derivada na linguagem computacional (o lado direito da equação diferencial)\n",
    "4. passar a função, seqüência de tempo, parâmetros e condições iniciais para uma rotina de computador que executa a integração.\n",
    "\n",
    "### Uma única equação\n",
    "\n",
    "Então, vamos começar com a mesma equação acima, a equação logística, agora expressa com os parâmetros para taxa de crescimento ($r$) e capacidade de carga ($K$):\n",
    "\n",
    "$$ \\frac{dx}{dt} = f(x) = r x \\left(1 - \\frac{x}{K} \\right) $$\n",
    "\n",
    "E vamos usar o caso em que  $r=2$, $K=10$ e a condição inicial $x(0) = 0.1$. Mostramos como integrá-lo usando R abaixo:\n",
    "\n",
    "#### 1. Defina os valores dos parâmetros e condição inicial"
   ]
  },
  {
   "cell_type": "code",
   "execution_count": null,
   "metadata": {},
   "outputs": [],
   "source": [
    "# Tudo após do '#' é um comentário\n",
    "\n",
    "## começamos a importar as bibliotecas que vamos usar\n",
    "# importa todas as funções (*) da biblioteca numpy, por exemplo, array, arange etc.\n",
    "from numpy import *\n",
    "# importa todas as funções de plotagem interativas (*), por exemplo, plot, xlabel etc.\n",
    "from matplotlib.pyplot import *\n",
    "# importa o integrador numérico que usaremos, odeint()\n",
    "from scipy.integrate import odeint\n",
    "\n",
    "# parâmetros\n",
    "r = 2.\n",
    "K = 10.\n",
    "# Condição inicial\n",
    "x0 = 0.1"
   ]
  },
  {
   "cell_type": "code",
   "execution_count": null,
   "metadata": {},
   "outputs": [],
   "source": [
    "#### 2. Escolha um intervalo de tempo ou uma sequência de tempos em que deseja a solução calculada\n",
    "Note que estes são momentos no tempo para os quais você quer a solução. **Não são os intervalos de integração**, que são definidos internamente pela função de integração."
   ]
  },
  {
   "cell_type": "code",
   "execution_count": null,
   "metadata": {},
   "outputs": [],
   "source": [
    "# passos de tempo: um array de valores começando de 0 até (mas\n",
    "# excluindo) 10, em passos de 0,01\n",
    "t = arange(0, 10., 0.01)"
   ]
  },
  {
   "cell_type": "markdown",
   "metadata": {},
   "source": [
    "#### 3. Defina uma função em Python para a EDO ser integrada\n",
    "Vamos definir o lado direito da equação diferencial. Este deve ser uma função da variável dependente (x) e do  tempo (t), mesmo que o tempo não apareça explicitamente. É assim que você define uma função:"
   ]
  },
  {
   "cell_type": "code",
   "execution_count": null,
   "metadata": {},
   "outputs": [],
   "source": [
    "def f(x, t, r, K):\n",
    "    return r*x*(1-x/K)\n",
    "# em python, não há chaves '{}' para iniciar ou\n",
    "# finaliza uma função, nem nenhuma palavra-chave especial: o bloco está definido\n",
    "# por espaços à esquerda (geralmente 4)\n",
    "# aritmética é feita da mesma forma que em outras linguagens: + - * /"
   ]
  },
  {
   "cell_type": "markdown",
   "metadata": {},
   "source": [
    "#### 4. Integrar a função\n",
    "Agora, chamamos a função que faz a integração. A ordem dos argumentos é a seguinte: a função derivada, a condição inicial, os pontos onde queremos a solução, e uma lista de parâmetros:"
   ]
  },
  {
   "cell_type": "code",
   "execution_count": null,
   "metadata": {},
   "outputs": [],
   "source": [
    "x = odeint(f, x0, t, (r, K))\n",
    "\n",
    "# plotando a solução\n",
    "figure(figsize=(8, 6)) \n",
    "tick_params(labelsize= 15)\n",
    "plot(t, x,linewidth=2.5)\n",
    "xlabel('t',fontsize=20) # definir rótulo do eixo x\n",
    "ylabel('x',fontsize=20) # e do eixo y\n",
    "\n",
    "# plotar solução analítica\n",
    "# note que `t` é um array: quando você faz qualquer operação aritmética\n",
    "# com um array, é o mesmo que fazer para cada elemento\n",
    "plot(t, K * x0 * exp(r*t)/(K+x0*(exp(r*t)-1.)),linewidth=2.5)\n",
    "legend(['aproximação', 'solução analítica'], loc='best',fontsize=20) # draw legend"
   ]
  },
  {
   "cell_type": "markdown",
   "metadata": {},
   "source": [
    "Temos uma aproximação muito melhor agora, as duas curvas se sobrepõem!\n",
    "\n",
    "Agora, e se quiséssemos integrar um sistema de equações diferenciais? Vamos pegar as equações de Lotka-Volterra:\n",
    "\n",
    "$$ \\begin{aligned}\n",
    "\\frac{dV}{dt} &= r V - c V P\\\\\n",
    "\\frac{dP}{dt} &= ec V P - dP\n",
    "\\end{aligned}$$\n",
    "\n",
    "\n",
    "Neste caso, a variável não é mais um número, mas um array `[V, P]`. Fazemos o mesmo de antes, mas agora `x` será um array:"
   ]
  },
  {
   "cell_type": "code",
   "execution_count": null,
   "metadata": {},
   "outputs": [],
   "source": [
    "\n",
    "# não precisamos fazer isso de novo: se a célula acima já foi executada,\n",
    "# as bibliotecas já foram importadas, mas repetimos aqui por conveniência.\n",
    "from numpy import *\n",
    "from matplotlib.pyplot import *\n",
    "from scipy.integrate import odeint\n",
    "\n",
    "t = arange(0, 50., 0.01)\n",
    "\n",
    "# parâmetros\n",
    "r = 2.\n",
    "c = 0.5\n",
    "e = 0.1\n",
    "d = 1.\n",
    "\n",
    "# condição inicial: este é um array agora!\n",
    "x0 = array([1., 3.])\n",
    "\n",
    "# a função ainda recebe apenas `x`, mas será um array, não um número\n",
    "# em python, arrays são numerados de 0, então o primeiro elemento\n",
    "# é x[0], o segundo é x[1]. Os colchetes `[ ]` definem um\n",
    "# lista, que é convertida em um array usando a função `array()`.\n",
    "# Observe que a primeira entrada corresponde a dV/dt e a segunda a dP/dt\n",
    "def LV(x, t, r, c, e, d):\n",
    "    return array([ r*x[0] - c * x[0] * x[1],\n",
    "                   e * c * x[0] * x[1] - d * x[1] ])\n",
    "\n",
    "# Agora, chamamos a função que faz a integração\n",
    "# a ordem dos argumentos é a seguinte: a função derivada,\n",
    "# a condição inicial, os pontos onde queremos a solução, e\n",
    "# uma lista de parâmetros\n",
    "x = odeint(LV, x0, t, (r, c, e, d))\n",
    "\n",
    "# Agora `x` é um array de 2 dimensões de tamanho 5000 x 2 (5000 passos de tempo por 2\n",
    "#variáveis). Podemos verificar assim:\n",
    "print('shape of x:', x.shape)\n",
    "\n",
    "# plotando as soluções\n",
    "figure(figsize=(8, 6)) \n",
    "tick_params(labelsize= 15)\n",
    "plot(t, x,linewidth=2.5)\n",
    "xlabel('t',fontsize=20) # definindo rótulo do eixo x\n",
    "ylabel('populações',fontsize=20) # e do eixo y\n",
    "legend(['V', 'P'], loc='upper right',fontsize=16)"
   ]
  },
  {
   "cell_type": "markdown",
   "metadata": {},
   "source": [
    "Uma coisa interessante a se fazer aqui é dar uma olhada no *espaço de fase*, ou seja, plotar apenas as variáveis ​​dependentes, sem respeito ao tempo:"
   ]
  },
  {
   "cell_type": "code",
   "execution_count": null,
   "metadata": {},
   "outputs": [],
   "source": [
    "figure(figsize=(8, 6)) \n",
    "tick_params(labelsize= 15)\n",
    "# `x[0,0]` é o primeiro valor (1ª linha, 1ª coluna), `x[0,1]` é o valor de\n",
    "# a 1ª linha, 2ª coluna, que corresponde ao valor de P no tempo\n",
    "# inicial. Traçamos apenas este ponto primeiro para saber onde começamos:\n",
    "plot(x[0,0], x[0,1], 'o',markersize=10,zorder=3, color='blue')\n",
    "print('Condições iniciais:', x[0])\n",
    "\n",
    "# `x[0]` ou (equivalentemente) x[0,:] é a primeira linha e `x[:,0]` é a primeira\n",
    "# coluna. Observe que os dois pontos `:` representam todos os valores desse eixo. Nós iremos\n",
    "# plotar a segunda coluna (P) contra a primeira (V):\n",
    "plot(x[:,0], x[:,1],linewidth=2.4)\n",
    "xlabel('V',fontsize=20)\n",
    "ylabel('P',fontsize=20)\n",
    "\n",
    "# Vamos calcular e plotar outra solução com uma condição inicial diferente\n",
    "x2 = odeint(LV, [10., 4.], t, (r, c, e, d))\n",
    "plot(x2[:,0], x2[:,1],linewidth=2.5)\n",
    "plot(x2[0,0], x2[0,1], 'o',markersize=10,color='red')"
   ]
  },
  {
   "cell_type": "markdown",
   "metadata": {},
   "source": [
    "**Parabéns**: agora você está pronto para integrar qualquer sistema de equações diferenciais! (Esperamos que generalizar o acima para mais de 2 equações não seja muito desafiador)."
   ]
  },
  {
   "cell_type": "markdown",
   "metadata": {},
   "source": [
    "### Mais informações:\n",
    "\n",
    "* [Tutorial de Python](http://docs.python.org/3/tutorial/index.html) (capítulos 3 a 5 são especialmente úteis)\n",
    "* [Uma introdução ao Numpy](http://nbviewer.ipython.org/github/iguananaut/notebooks/blob/master/numpy.ipynb)\n",
    "* [Mais um](http://nbviewer.ipython.org/github/jrjohansson/scientific-python-lectures/blob/master/Lecture-2-Numpy.ipynb), indo um pouco mais a fundo.\n",
    "* [The matplotlib gallery](http://matplotlib.org/gallery.html): todos os tipos de gráficos, com código de exemplo para usar."
   ]
  }
 ],
 "metadata": {
  "kernelspec": {
   "display_name": "Python 3 (ipykernel)",
   "language": "python",
   "name": "python3"
  },
  "language_info": {
   "codemirror_mode": {
    "name": "ipython",
    "version": 3
   },
   "file_extension": ".py",
   "mimetype": "text/x-python",
   "name": "python",
   "nbconvert_exporter": "python",
   "pygments_lexer": "ipython3",
   "version": "3.10.5"
  }
 },
 "nbformat": 4,
 "nbformat_minor": 4
}
